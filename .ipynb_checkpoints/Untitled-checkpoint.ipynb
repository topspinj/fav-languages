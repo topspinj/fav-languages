{
 "cells": [
  {
   "cell_type": "code",
   "execution_count": null,
   "metadata": {
    "collapsed": true
   },
   "outputs": [],
   "source": [
    "import csv, json, sys\n",
    "\n",
    "import \n",
    "\n",
    "input = open(sys.argv[1])\n",
    "data = json.load(input)\n",
    "input.close()\n",
    "\n",
    "output = csv.writer(sys.stdout)\n",
    "\n",
    "output.writerow(data[0].keys())  # header row\n",
    "\n",
    "for row in data:\n",
    "    output.writerow(row.values())"
   ]
  }
 ],
 "metadata": {
  "anaconda-cloud": {},
  "kernelspec": {
   "display_name": "Python [default]",
   "language": "python",
   "name": "python3"
  },
  "language_info": {
   "codemirror_mode": {
    "name": "ipython",
    "version": 3
   },
   "file_extension": ".py",
   "mimetype": "text/x-python",
   "name": "python",
   "nbconvert_exporter": "python",
   "pygments_lexer": "ipython3",
   "version": "3.5.2"
  }
 },
 "nbformat": 4,
 "nbformat_minor": 2
}
